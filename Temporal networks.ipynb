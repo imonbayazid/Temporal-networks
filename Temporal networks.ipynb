{
 "cells": [
  {
   "cell_type": "markdown",
   "metadata": {},
   "source": [
    "# Temporal networks"
   ]
  },
  {
   "cell_type": "markdown",
   "metadata": {},
   "source": [
    "Abu Ibne Bayazid"
   ]
  },
  {
   "cell_type": "markdown",
   "metadata": {},
   "source": [
    "Consider a human contact dataset (highschool_2011.csv) which consists of contacts between highschool students. Column 1 indicates the time and columns 2 and 3 indicates the node ids (you can ignore the rest of the columns). "
   ]
  },
  {
   "cell_type": "markdown",
   "metadata": {},
   "source": [
    "Write a function that takes as input the dataset and calculates the temporal correlation present in the dataset. "
   ]
  },
  {
   "cell_type": "code",
   "execution_count": 126,
   "metadata": {},
   "outputs": [],
   "source": [
    "import numpy as np"
   ]
  },
  {
   "cell_type": "code",
   "execution_count": 127,
   "metadata": {},
   "outputs": [],
   "source": [
    "def createEdgelist(fname):\n",
    "    T = 1\n",
    "    current_time = 0\n",
    "    edge_list = []\n",
    "    edge = []\n",
    "    with open('datasets/highschool_2011.csv') as fs:\n",
    "        for line in fs:\n",
    "            temp = line.strip().split('\\t')\n",
    "            time,u,v = int(temp[0]),int(temp[1]),int(temp[2])\n",
    "            if time!=current_time:\n",
    "                T+=1\n",
    "                current_time = time\n",
    "                edge_list.append(edge)\n",
    "                edge = [(u,v)]\n",
    "            else:    \n",
    "                edge.append((u,v))\n",
    "    \n",
    "    return edge_list,T            "
   ]
  },
  {
   "cell_type": "code",
   "execution_count": 128,
   "metadata": {},
   "outputs": [],
   "source": [
    "def getNeighbor(edge):\n",
    "    neighbor = {}\n",
    "    for u,v in edge:\n",
    "        if u not in neighbor:\n",
    "            neighbor[u] = [v]\n",
    "        else:\n",
    "            neighbor[u].append(v)\n",
    "        if v not in neighbor:\n",
    "            neighbor[v] = [u]\n",
    "        else:\n",
    "            neighbor[v].append(u)\n",
    "    return neighbor            "
   ]
  },
  {
   "cell_type": "code",
   "execution_count": 129,
   "metadata": {},
   "outputs": [],
   "source": [
    "def calculate_coefficient(edge_t,edge_t_1):\n",
    "    # get_neighbors\n",
    "    n_t = getNeighbor(edge_t) # neighbors at t\n",
    "    n_t_1 = getNeighbor(edge_t_1) # neighbors at t+1\n",
    "    for node in n_t:\n",
    "        if node in n_t_1:\n",
    "            coeff = len(set(n_t[node])&set(n_t_1[node]))/(len(set(n_t[node]))*len(set(n_t_1[node])))\n",
    "            if node not in coefficient_node:\n",
    "                coefficient_node[node]=coeff\n",
    "            else:\n",
    "                coefficient_node[node]+=coeff"
   ]
  },
  {
   "cell_type": "code",
   "execution_count": 130,
   "metadata": {},
   "outputs": [],
   "source": [
    "def temporal_correlation_coefficient(edge_list,T):\n",
    "    for i in range(1,len(edge_list)-1):\n",
    "        calculate_coefficient(edge_list[i],edge_list[i+1])\n",
    "    \n",
    "    return np.mean([coefficient_node[i]/(T-1) for i in coefficient_node])"
   ]
  },
  {
   "cell_type": "code",
   "execution_count": 131,
   "metadata": {},
   "outputs": [
    {
     "data": {
      "text/plain": [
       "0.041547143168433956"
      ]
     },
     "execution_count": 131,
     "metadata": {},
     "output_type": "execute_result"
    }
   ],
   "source": [
    "coefficient_node = {} \n",
    "edge_list,T = createEdgelist('datasets/highschool_2011.csv')\n",
    "temporal_correlation_coefficient(edge_list,T)"
   ]
  },
  {
   "cell_type": "markdown",
   "metadata": {},
   "source": [
    "Write a function to create a null model of the network by randomly shuffling the time stamps of the edges. Typically, consider a random pair of edges and change their time stamps (repeat this step 1000 times). Input to the function should be the network only. Recalculate the temporal correlation in this null model. "
   ]
  },
  {
   "cell_type": "code",
   "execution_count": 132,
   "metadata": {},
   "outputs": [],
   "source": [
    "import random"
   ]
  },
  {
   "cell_type": "code",
   "execution_count": 133,
   "metadata": {},
   "outputs": [],
   "source": [
    "def NullModel(edge_list,T):\n",
    "    edge_list_null_model = edge_list.copy()\n",
    "    for i in range(1000):\n",
    "        x,y = random.randint(1,T),random.randint(1,T)\n",
    "        edge_x = edge_list_null_model[x]\n",
    "        edge_y = edge_list_null_model[y]\n",
    "        a,b = random.randint(0,len(edge_x)-1),random.randint(0,len(edge_y)-1)\n",
    "        temp = edge_x[a]\n",
    "        del edge_x[a]\n",
    "        edge_x.append(edge_y[b])\n",
    "        del edge_y[b]\n",
    "        edge_y.append(temp)\n",
    "        \n",
    "    return edge_list_null_model   "
   ]
  },
  {
   "cell_type": "code",
   "execution_count": 134,
   "metadata": {},
   "outputs": [
    {
     "data": {
      "text/plain": [
       "0.03582840362578355"
      ]
     },
     "execution_count": 134,
     "metadata": {},
     "output_type": "execute_result"
    }
   ],
   "source": [
    "coefficient_node = {}\n",
    "edge_list_null_model = NullModel(edge_list,T-1)\n",
    "temporal_correlation_coefficient(edge_list_null_model,T)"
   ]
  },
  {
   "cell_type": "markdown",
   "metadata": {},
   "source": [
    "From the contact information provided in the dataset write a function to calculate the activity potential of each node i (F(i)). The function should take as input the network and return a dictionary of nodes and the corresponding activity potential. Now write a function to generate the network for next time step using the activity-driven network model. You can set the value of m (the number of links generated by each active node to 2). Note that a node i becomes active with a probability alpha\\*F(i), alpha = 10"
   ]
  },
  {
   "cell_type": "code",
   "execution_count": 135,
   "metadata": {},
   "outputs": [],
   "source": [
    "def calculateActivityPotential(fname):\n",
    "    activity_potential = {}\n",
    "    ego = {}\n",
    "    nodes = []\n",
    "    events = 0\n",
    "    with open('datasets/highschool_2011.csv') as fs:\n",
    "        for line in fs:\n",
    "            events+=1\n",
    "            temp = line.strip().split('\\t')\n",
    "            u,v = int(temp[1]),int(temp[2])\n",
    "            if u not in activity_potential:\n",
    "                activity_potential[u]=1\n",
    "                ego[u] = [v]\n",
    "                nodes.append(u)\n",
    "            else:\n",
    "                activity_potential[u]+=1\n",
    "                if v not in ego[u]:\n",
    "                    ego[u].append(v)\n",
    "            if v not in activity_potential:\n",
    "                activity_potential[v] = 1\n",
    "                ego[v] = [u]\n",
    "                nodes.append(v)\n",
    "            else:\n",
    "                activity_potential[v]+=1\n",
    "                if u not in ego[v]:\n",
    "                    ego[v].append(u)\n",
    "                    \n",
    "    return activity_potential,ego,nodes,events                "
   ]
  },
  {
   "cell_type": "code",
   "execution_count": 136,
   "metadata": {},
   "outputs": [],
   "source": [
    "def getActiveNodes(activity_potential):\n",
    "    activation_probability = [10*activity_potential[i]/events for i in activity_potential]\n",
    "    active_nodes = []\n",
    "    for i in range(len(activation_probability)):\n",
    "        if random.random()<activation_probability[i]:\n",
    "            active_nodes.append(i)\n",
    "            \n",
    "    return active_nodes        "
   ]
  },
  {
   "cell_type": "code",
   "execution_count": 137,
   "metadata": {},
   "outputs": [],
   "source": [
    "def ActivityDrivenModel(fname):\n",
    "    activity_potential,ego,nodes,events = calculateActivityPotential(fname)\n",
    "    active_nodes = getActiveNodes(activity_potential)\n",
    "    edges = []\n",
    "    for i in active_nodes:\n",
    "        for j in range(2):\n",
    "            edges.append((i,random.randint(0,len(active_nodes))))\n",
    "    return edges        "
   ]
  },
  {
   "cell_type": "code",
   "execution_count": 138,
   "metadata": {},
   "outputs": [
    {
     "data": {
      "text/plain": [
       "[(1, 7),\n",
       " (1, 0),\n",
       " (14, 17),\n",
       " (14, 0),\n",
       " (23, 10),\n",
       " (23, 17),\n",
       " (24, 14),\n",
       " (24, 17),\n",
       " (27, 15),\n",
       " (27, 18),\n",
       " (30, 18),\n",
       " (30, 10),\n",
       " (32, 1),\n",
       " (32, 15),\n",
       " (50, 15),\n",
       " (50, 13),\n",
       " (54, 6),\n",
       " (54, 14),\n",
       " (70, 1),\n",
       " (70, 2),\n",
       " (72, 8),\n",
       " (72, 9),\n",
       " (74, 11),\n",
       " (74, 12),\n",
       " (84, 17),\n",
       " (84, 8),\n",
       " (88, 1),\n",
       " (88, 1),\n",
       " (93, 6),\n",
       " (93, 5),\n",
       " (100, 0),\n",
       " (100, 2),\n",
       " (108, 16),\n",
       " (108, 18),\n",
       " (121, 3),\n",
       " (121, 2)]"
      ]
     },
     "execution_count": 138,
     "metadata": {},
     "output_type": "execute_result"
    }
   ],
   "source": [
    "ActivityDrivenModel('datasets/highschool_2011.csv')"
   ]
  },
  {
   "cell_type": "markdown",
   "metadata": {},
   "source": [
    "Write a function to obtain the ego (immediate neighbors) for each node. Your function should take as input the network and the node id and return its ego.\n",
    "Using the activity potential calculated previously write a function to generate the network for the next time step using the activity-driven network model with memory. Any node links with a previously contacted node with probability n/n+1 (n is the size of its ego) or with a new node with probability 1/n+1. Note that a node i becomes active with a probability alpha\\*F(i), alpha = 10"
   ]
  },
  {
   "cell_type": "code",
   "execution_count": 139,
   "metadata": {},
   "outputs": [],
   "source": [
    "def ActivityDrivenModelwithMemory(fname):\n",
    "    activity_potential,ego,nodes,events = calculateActivityPotential(fname)\n",
    "    active_nodes = getActiveNodes(activity_potential)\n",
    "    edges = []\n",
    "    for i in active_nodes:\n",
    "        prob = len(ego[i])/(len(ego[i])+1)\n",
    "        new_node = [j for j in range(len(activity_potential)) if j not in ego[i]]\n",
    "        for j in range(2):\n",
    "            if random.random()<prob:\n",
    "                edges.append((i,random.choice(ego[i])))\n",
    "            else:\n",
    "                edges.append((i,random.choice(new_node)))\n",
    "                \n",
    "    return edges            "
   ]
  },
  {
   "cell_type": "code",
   "execution_count": 140,
   "metadata": {},
   "outputs": [
    {
     "data": {
      "text/plain": [
       "[(4, 45),\n",
       " (4, 81),\n",
       " (22, 34),\n",
       " (22, 23),\n",
       " (23, 25),\n",
       " (23, 19),\n",
       " (27, 75),\n",
       " (27, 51),\n",
       " (33, 19),\n",
       " (33, 115),\n",
       " (34, 14),\n",
       " (34, 115),\n",
       " (37, 64),\n",
       " (37, 68),\n",
       " (47, 95),\n",
       " (47, 10),\n",
       " (50, 51),\n",
       " (50, 27),\n",
       " (53, 96),\n",
       " (53, 20),\n",
       " (54, 4),\n",
       " (54, 90),\n",
       " (60, 10),\n",
       " (60, 74),\n",
       " (61, 107),\n",
       " (61, 34),\n",
       " (67, 57),\n",
       " (67, 58),\n",
       " (75, 6),\n",
       " (75, 62),\n",
       " (78, 51),\n",
       " (78, 45),\n",
       " (100, 62),\n",
       " (100, 106),\n",
       " (103, 48),\n",
       " (103, 106),\n",
       " (106, 104),\n",
       " (106, 67),\n",
       " (108, 11),\n",
       " (108, 25)]"
      ]
     },
     "execution_count": 140,
     "metadata": {},
     "output_type": "execute_result"
    }
   ],
   "source": [
    "ActivityDrivenModelwithMemory('datasets/highschool_2011.csv')"
   ]
  },
  {
   "cell_type": "code",
   "execution_count": null,
   "metadata": {},
   "outputs": [],
   "source": []
  }
 ],
 "metadata": {
  "kernelspec": {
   "display_name": "Python 3",
   "language": "python",
   "name": "python3"
  },
  "language_info": {
   "codemirror_mode": {
    "name": "ipython",
    "version": 3
   },
   "file_extension": ".py",
   "mimetype": "text/x-python",
   "name": "python",
   "nbconvert_exporter": "python",
   "pygments_lexer": "ipython3",
   "version": "3.7.0"
  }
 },
 "nbformat": 4,
 "nbformat_minor": 2
}
